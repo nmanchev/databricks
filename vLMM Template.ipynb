{
 "cells": [
  {
   "cell_type": "markdown",
   "metadata": {
    "application/vnd.databricks.v1+cell": {
     "cellMetadata": {},
     "inputWidgets": {},
     "nuid": "879ebbf7-3530-4cce-9438-0b7bdb21ed58",
     "showTitle": false,
     "tableResultSettingsMap": {},
     "title": ""
    }
   },
   "source": [
    "# LMM hosting in Databricks via vLMM\n",
    "\n"
   ]
  },
  {
   "cell_type": "code",
   "execution_count": 0,
   "metadata": {
    "application/vnd.databricks.v1+cell": {
     "cellMetadata": {
      "byteLimit": 2048000,
      "rowLimit": 10000
     },
     "inputWidgets": {},
     "nuid": "b66af53f-f692-45a0-9b69-4c70a8f1568c",
     "showTitle": false,
     "tableResultSettingsMap": {},
     "title": ""
    }
   },
   "outputs": [],
   "source": [
    "PIP_REQUIREMENTS = (\n",
    "    \"openai vllm==0.6.4.post1 httpx==0.27.2 \"\n",
    "    \"transformers==4.46.3 accelerate==1.0.0 \"\n",
    "    \"mlflow==2.19.0 \"\n",
    "    \"git+https://github.com/stikkireddy/mlflow-extensions.git@v0.17.0\"\n",
    ")\n",
    "%pip install {PIP_REQUIREMENTS}\n",
    "\n",
    "dbutils.library.restartPython()"
   ]
  },
  {
   "cell_type": "code",
   "execution_count": 0,
   "metadata": {
    "application/vnd.databricks.v1+cell": {
     "cellMetadata": {
      "byteLimit": 2048000,
      "rowLimit": 10000
     },
     "inputWidgets": {},
     "nuid": "c84ad39e-6572-4761-b965-b1d50d8f4ce5",
     "showTitle": false,
     "tableResultSettingsMap": {},
     "title": ""
    }
   },
   "outputs": [],
   "source": [
    "PIP_REQUIREMENTS = (\n",
    "    \"openai==1.45.0 vllm==0.6.4.post1 httpx==0.27.2 \"\n",
    "    \"transformers==4.46.3 accelerate==1.0.0 \"\n",
    "    \"mlflow==2.19.0 \"\n",
    "    \"git+https://github.com/stikkireddy/mlflow-extensions.git@v0.17.0\"\n",
    ")"
   ]
  },
  {
   "cell_type": "markdown",
   "metadata": {
    "application/vnd.databricks.v1+cell": {
     "cellMetadata": {},
     "inputWidgets": {},
     "nuid": "d0907307-6dbd-4e4a-b720-248c17d67b12",
     "showTitle": false,
     "tableResultSettingsMap": {},
     "title": ""
    }
   },
   "source": [
    "###Change the below configs"
   ]
  },
  {
   "cell_type": "code",
   "execution_count": 0,
   "metadata": {
    "application/vnd.databricks.v1+cell": {
     "cellMetadata": {
      "byteLimit": 2048000,
      "rowLimit": 10000
     },
     "inputWidgets": {},
     "nuid": "ee1a5356-d939-4011-95ea-e97085e2274d",
     "showTitle": false,
     "tableResultSettingsMap": {},
     "title": ""
    }
   },
   "outputs": [],
   "source": [
    "# TODO - add your Unity Catalog and schema here\n",
    "\n",
    "CATALOG = \"...\"\n",
    "SCHEMA = \"...\"\n",
    "MODEL_NAME = \"...\"\n",
    "ENDPOINT_NAME = \"...\"\n",
    "# LOCAL_PATH_TO_MODEL = \"/Volumes/...\""
   ]
  },
  {
   "cell_type": "code",
   "execution_count": 0,
   "metadata": {
    "application/vnd.databricks.v1+cell": {
     "cellMetadata": {
      "byteLimit": 2048000,
      "rowLimit": 10000
     },
     "inputWidgets": {},
     "nuid": "c4edd3c9-7c22-410b-8fdd-9c5ef9ad4e70",
     "showTitle": false,
     "tableResultSettingsMap": {},
     "title": ""
    }
   },
   "outputs": [],
   "source": [
    "from mlflow_extensions.serving.engines import VLLMEngineProcess\n",
    "from mlflow_extensions.serving.engines.vllm_engine import VLLMEngineConfig\n",
    "from mlflow_extensions.databricks.deploy.ez_deploy import EzDeployConfig, ServingConfig,EzDeployVllmOpenCompat"
   ]
  },
  {
   "cell_type": "code",
   "execution_count": 0,
   "metadata": {
    "application/vnd.databricks.v1+cell": {
     "cellMetadata": {
      "byteLimit": 2048000,
      "rowLimit": 10000
     },
     "inputWidgets": {},
     "nuid": "a41d0d58-37e4-4d26-846f-7e2bfb8d6d03",
     "showTitle": false,
     "tableResultSettingsMap": {},
     "title": ""
    }
   },
   "outputs": [],
   "source": [
    "deployer = EzDeployVllmOpenCompat(\n",
    "  config= EzDeployConfig(\n",
    "    name=\"InternVL2_5-78B-MPO-AWQ\",\n",
    "    engine_proc=VLLMEngineProcess,\n",
    "    engine_config=VLLMEngineConfig(\n",
    "          model=\"OpenGVLab/InternVL2_5-78B-MPO-AWQ\", # copy the Hf link\n",
    "          guided_decoding_backend=\"outlines\",\n",
    "          vllm_command_flags={\n",
    "              \"--gpu-memory-utilization\": 0.97,\n",
    "              \"--quantization\" : \"awq\",\n",
    "              \"--dtype\": \"float16\",\n",
    "              \"--enforce-eager\": None,\n",
    "              \"--enable-auto-tool-choice\" : None,\n",
    "              \"--tool-call-parser\" : \"hermes\"\n",
    "          },\n",
    "          max_model_len=15000,\n",
    "          max_num_images=2\n",
    "),\n",
    "  serving_config=ServingConfig(\n",
    "      # rough estimate for the engines this includes model weights + kv cache + overhead + intermediate states\n",
    "      minimum_memory_in_gb=50,\n",
    "  ),\n",
    "  pip_config_override = PIP_REQUIREMENTS.split(\" \")\n",
    "),\n",
    "  registered_model_name=f\"{CATALOG}.{SCHEMA}.{MODEL_NAME}\"\n",
    ")"
   ]
  },
  {
   "cell_type": "code",
   "execution_count": 0,
   "metadata": {
    "application/vnd.databricks.v1+cell": {
     "cellMetadata": {
      "byteLimit": 2048000,
      "rowLimit": 10000
     },
     "inputWidgets": {},
     "nuid": "13f8eee2-577e-458d-bbd8-155e55699f91",
     "showTitle": false,
     "tableResultSettingsMap": {},
     "title": ""
    }
   },
   "outputs": [],
   "source": [
    "deployer.download()"
   ]
  },
  {
   "cell_type": "code",
   "execution_count": 0,
   "metadata": {
    "application/vnd.databricks.v1+cell": {
     "cellMetadata": {
      "byteLimit": 2048000,
      "rowLimit": 10000
     },
     "inputWidgets": {},
     "nuid": "f8aa78c2-416b-40ed-ac7f-ffcf69590b8a",
     "showTitle": false,
     "tableResultSettingsMap": {},
     "title": ""
    }
   },
   "outputs": [],
   "source": [
    "deployer.register()"
   ]
  },
  {
   "cell_type": "markdown",
   "metadata": {
    "application/vnd.databricks.v1+cell": {
     "cellMetadata": {},
     "inputWidgets": {},
     "nuid": "1d133abb-8d76-4ac4-8b25-8b1816f1a71f",
     "showTitle": false,
     "tableResultSettingsMap": {},
     "title": ""
    }
   },
   "source": [
    "# Below is the code to deploy the endpoint to model serving"
   ]
  },
  {
   "cell_type": "code",
   "execution_count": 0,
   "metadata": {
    "application/vnd.databricks.v1+cell": {
     "cellMetadata": {
      "byteLimit": 2048000,
      "rowLimit": 10000
     },
     "inputWidgets": {},
     "nuid": "8970439f-c6b6-4bea-aaf4-1a77d7fea4b7",
     "showTitle": false,
     "tableResultSettingsMap": {},
     "title": ""
    }
   },
   "outputs": [],
   "source": [
    "deployer.deploy(ENDPOINT_NAME, scale_to_zero=False)"
   ]
  },
  {
   "cell_type": "markdown",
   "metadata": {
    "application/vnd.databricks.v1+cell": {
     "cellMetadata": {},
     "inputWidgets": {},
     "nuid": "99bd5440-70f7-4cac-9cfe-654b7727335c",
     "showTitle": false,
     "tableResultSettingsMap": {},
     "title": ""
    }
   },
   "source": [
    "## Kill the existing process and reload model from the UC (Run the below cell every time you want to restart the process)"
   ]
  },
  {
   "cell_type": "code",
   "execution_count": 0,
   "metadata": {
    "application/vnd.databricks.v1+cell": {
     "cellMetadata": {
      "byteLimit": 2048000,
      "rowLimit": 10000
     },
     "inputWidgets": {},
     "nuid": "0bf7d76a-4fcf-4963-8614-e42da33b2ba8",
     "showTitle": false,
     "tableResultSettingsMap": {},
     "title": ""
    }
   },
   "outputs": [],
   "source": [
    "from mlflow_extensions.testing.helper import kill_processes_containing\n",
    "\n",
    "kill_processes_containing(\"vllm\")\n",
    "kill_processes_containing(\"ray\")\n",
    "kill_processes_containing(\"from multiprocessing\")"
   ]
  },
  {
   "cell_type": "code",
   "execution_count": 0,
   "metadata": {
    "application/vnd.databricks.v1+cell": {
     "cellMetadata": {
      "byteLimit": 2048000,
      "rowLimit": 10000
     },
     "inputWidgets": {},
     "nuid": "2f591289-b5fc-4b1d-80dc-1182eae0cb86",
     "showTitle": false,
     "tableResultSettingsMap": {},
     "title": ""
    },
    "jupyter": {
     "outputs_hidden": true
    }
   },
   "outputs": [],
   "source": [
    "# from mlflow.models import validate_serving_input\n",
    "import mlflow\n",
    "model_uri =f\"models:/{CATALOG}.{SCHEMA}.{MODEL_NAME}/8\"\n",
    "\n",
    "pyfunc_model = mlflow.pyfunc.load_model(model_uri)\n",
    "\n",
    "base_url = str(pyfunc_model.unwrap_python_model()._engine._server_http_client.base_url)\n",
    "\n",
    "print(\"base_url:\",base_url)\n"
   ]
  },
  {
   "cell_type": "markdown",
   "metadata": {
    "application/vnd.databricks.v1+cell": {
     "cellMetadata": {},
     "inputWidgets": {},
     "nuid": "5e738dbf-2519-4f57-b655-2f1d4290c64a",
     "showTitle": false,
     "tableResultSettingsMap": {},
     "title": ""
    }
   },
   "source": [
    "# Using the predict function to prompt the llm"
   ]
  },
  {
   "cell_type": "code",
   "execution_count": 0,
   "metadata": {
    "application/vnd.databricks.v1+cell": {
     "cellMetadata": {
      "byteLimit": 2048000,
      "rowLimit": 10000
     },
     "inputWidgets": {},
     "nuid": "5a3edaf3-4405-4b63-b724-1f91421e5b77",
     "showTitle": false,
     "tableResultSettingsMap": {},
     "title": ""
    }
   },
   "outputs": [],
   "source": [
    "# The model is logged with an input example. MLflow converts\n",
    "# it into the serving payload format for the deployed model endpoint,\n",
    "# and saves it to 'serving_input_payload.json'\n",
    "serving_payload = {\n",
    "  \"messages\": [\n",
    "    {\n",
    "      \"role\": \"system\",\n",
    "      \"content\": \"You are a helpful assistant.\"\n",
    "    },\n",
    "    {\n",
    "      \"role\": \"user\",\n",
    "      \"content\": \"Hello!\"\n",
    "    }\n",
    "  ],\n",
    "  \"temperature\": 1.0,\n",
    "  \"max_tokens\": 10,\n",
    "\n",
    "}\n",
    "pyfunc_model.predict(serving_payload)"
   ]
  },
  {
   "cell_type": "markdown",
   "metadata": {
    "application/vnd.databricks.v1+cell": {
     "cellMetadata": {},
     "inputWidgets": {},
     "nuid": "dc5d5981-0242-4b30-be86-4c75182535ff",
     "showTitle": false,
     "tableResultSettingsMap": {},
     "title": ""
    }
   },
   "source": [
    "\n",
    "# Test Prompting on an Image\n",
    "\n",
    "## Ask a question to an image"
   ]
  },
  {
   "cell_type": "code",
   "execution_count": 0,
   "metadata": {
    "application/vnd.databricks.v1+cell": {
     "cellMetadata": {
      "byteLimit": 2048000,
      "rowLimit": 10000
     },
     "inputWidgets": {},
     "nuid": "235d7420-a7c6-427a-a027-b6555c0c9a35",
     "showTitle": false,
     "tableResultSettingsMap": {},
     "title": ""
    }
   },
   "outputs": [],
   "source": [
    "import urllib.request\n",
    "from PIL import Image\n",
    "from io import BytesIO \n",
    "\n",
    "image_url = \"https://www.arsenal.com/sites/default/files/styles/large_16x9/public/images/saka-celeb-bayern.png?h=3c8f2bed&auto=webp&itok=Twjeu8tug\"\n",
    "with urllib.request.urlopen(image_url) as url:\n",
    "    img = Image.open(BytesIO(url.read()))\n",
    "\n",
    "display(img)"
   ]
  },
  {
   "cell_type": "code",
   "execution_count": 0,
   "metadata": {
    "application/vnd.databricks.v1+cell": {
     "cellMetadata": {
      "byteLimit": 2048000,
      "rowLimit": 10000
     },
     "inputWidgets": {},
     "nuid": "b1493baa-964c-43b7-a2f5-4db6ed827bf7",
     "showTitle": false,
     "tableResultSettingsMap": {},
     "title": ""
    }
   },
   "outputs": [],
   "source": [
    "from openai import OpenAI\n",
    "client = OpenAI(\n",
    "  base_url=f\"{base_url}/v1\",\n",
    "  api_key=\"DUMMY\"\n",
    ")"
   ]
  },
  {
   "cell_type": "code",
   "execution_count": 0,
   "metadata": {
    "application/vnd.databricks.v1+cell": {
     "cellMetadata": {
      "byteLimit": 2048000,
      "rowLimit": 10000
     },
     "inputWidgets": {},
     "nuid": "d7bb7f92-ccb2-4e14-9711-bc87cd11b47b",
     "showTitle": false,
     "tableResultSettingsMap": {},
     "title": ""
    }
   },
   "outputs": [],
   "source": [
    "from openai import OpenAI\n",
    "client = OpenAI(\n",
    "  base_url=f\"{base_url}/v1\",\n",
    "  api_key=\"DUMMY\"\n",
    ")\n",
    "\n",
    "response = client.chat.completions.create(\n",
    "  model=\"default\",\n",
    "  messages=[\n",
    "    {\"role\": \"user\", \n",
    "    \"content\": [\n",
    "                {\"type\": \"text\", \"text\": \"which football team is this player belong to?\"},\n",
    "                {\n",
    "                    \"type\": \"image_url\",\n",
    "                    \"image_url\": {\n",
    "                      \"url\": image_url\n",
    "                    },\n",
    "                },\n",
    "            ],\n",
    "    }\n",
    "  ],\n",
    "  temperature=0.0,\n",
    "  max_tokens=150,\n",
    "\n",
    ")\n",
    "\n",
    "response.choices[0].message.content.strip()"
   ]
  },
  {
   "cell_type": "markdown",
   "metadata": {
    "application/vnd.databricks.v1+cell": {
     "cellMetadata": {},
     "inputWidgets": {},
     "nuid": "5dc8e8dc-6f50-4458-8964-26329f9edc5e",
     "showTitle": false,
     "tableResultSettingsMap": {},
     "title": ""
    }
   },
   "source": [
    "# Test Prompting on an Image\n",
    "# Using tool calling to design an agentic flow"
   ]
  },
  {
   "cell_type": "code",
   "execution_count": 0,
   "metadata": {
    "application/vnd.databricks.v1+cell": {
     "cellMetadata": {
      "byteLimit": 2048000,
      "rowLimit": 10000
     },
     "inputWidgets": {},
     "nuid": "e338875e-2bd1-462e-a5be-8775bc669aaf",
     "showTitle": false,
     "tableResultSettingsMap": {},
     "title": ""
    }
   },
   "outputs": [],
   "source": [
    "\n",
    "response = client.chat.completions.create(\n",
    "  model=\"default\",\n",
    "  messages=[\n",
    "    {\"role\": \"user\", \n",
    "    \"content\": [\n",
    "                 {\"type\": \"text\", \"text\": \"which football team is this player belong to use tools?\"},\n",
    "                {\n",
    "                    \"type\": \"image_url\",\n",
    "                    \"image_url\": {\n",
    "                      \"url\": image_url\n",
    "                    },\n",
    "                },\n",
    "            ],\n",
    "    }\n",
    "  ],\n",
    "  tools = [{\n",
    "    \"type\": \"function\",\n",
    "    \"function\": {\n",
    "        \"name\": \"get_player_information\",\n",
    "        \"description\": \"This functions gets all details about a player shown in the image including where he is male/female and club affiliation\",\n",
    "        \"parameters\": {\n",
    "            \"type\": \"object\",\n",
    "            \"properties\": {\n",
    "                \"team\": {\n",
    "                    \"type\":\n",
    "                    \"string\",\n",
    "                    \"description\":\n",
    "                    \"The sports club or team the player belongs to can be from any sport\"\n",
    "                },\n",
    "                \"gender\": {\n",
    "                    \"type\":\n",
    "                    \"string\",\n",
    "                    \"description\":\n",
    "                    \"The gender of the player can be either male or female or 'no player found'\",\n",
    "                },\n",
    "            },\n",
    "            \"required\": [\"team\", \"gender\"]\n",
    "        }\n",
    "    }\n",
    "}],\n",
    "tool_choice={\"type\": \"function\", \"function\": {\"name\": \"get_player_information\"}},\n",
    "  temperature=0.0,\n",
    "  max_tokens=150,\n",
    "\n",
    ")\n",
    "\n",
    "response.choices[0].message.content.strip()"
   ]
  },
  {
   "cell_type": "code",
   "execution_count": 0,
   "metadata": {
    "application/vnd.databricks.v1+cell": {
     "cellMetadata": {
      "byteLimit": 2048000,
      "rowLimit": 10000
     },
     "inputWidgets": {},
     "nuid": "003a692c-220a-4b3c-b89f-79bafbb975b0",
     "showTitle": false,
     "tableResultSettingsMap": {},
     "title": ""
    }
   },
   "outputs": [],
   "source": [
    "response"
   ]
  },
  {
   "cell_type": "markdown",
   "metadata": {
    "application/vnd.databricks.v1+cell": {
     "cellMetadata": {},
     "inputWidgets": {},
     "nuid": "37d2630e-27a6-4825-abe9-3b49f73f4fa2",
     "showTitle": false,
     "tableResultSettingsMap": {},
     "title": ""
    }
   },
   "source": [
    "#Load files from Volumes"
   ]
  },
  {
   "cell_type": "code",
   "execution_count": 0,
   "metadata": {
    "application/vnd.databricks.v1+cell": {
     "cellMetadata": {
      "byteLimit": 2048000,
      "rowLimit": 10000
     },
     "inputWidgets": {},
     "nuid": "fb5ee89e-b953-4f46-b884-04866d4a01cf",
     "showTitle": false,
     "tableResultSettingsMap": {},
     "title": ""
    }
   },
   "outputs": [],
   "source": [
    "df_raw = (\n",
    "    spark.readStream.format(\"cloudFiles\")\n",
    "    .option(\"cloudFiles.format\", \"binaryFile\")\n",
    "    .option(\"pathGlobfilter\", f\"*.jpg\")\n",
    "    .load(f\"/Volumes/{CATALOG}/{SCHEMA}/jd_images\")\n",
    ")"
   ]
  },
  {
   "cell_type": "code",
   "execution_count": 0,
   "metadata": {
    "application/vnd.databricks.v1+cell": {
     "cellMetadata": {
      "byteLimit": 2048000,
      "rowLimit": 10000
     },
     "inputWidgets": {},
     "nuid": "b82a833a-6f64-44b1-a7dc-e35fff58b952",
     "showTitle": false,
     "tableResultSettingsMap": {},
     "title": ""
    }
   },
   "outputs": [],
   "source": [
    "df_raw.writeStream.trigger(availableNow=True).option(\n",
    "        \"checkpointLocation\",\n",
    "        f\"/Volumes/{CATALOG}/{SCHEMA}/checkpoints/raw_imgs\",\n",
    ").toTable(f\"{CATALOG}.{SCHEMA}.raw_img_bytes\").awaitTermination()"
   ]
  },
  {
   "cell_type": "code",
   "execution_count": 0,
   "metadata": {
    "application/vnd.databricks.v1+cell": {
     "cellMetadata": {
      "byteLimit": 2048000,
      "rowLimit": 10000
     },
     "inputWidgets": {},
     "nuid": "74b591a3-449d-4640-868c-7ad37af70bf0",
     "showTitle": false,
     "tableResultSettingsMap": {},
     "title": ""
    }
   },
   "outputs": [],
   "source": [
    "df_img = spark.table(f\"{CATALOG}.{SCHEMA}.raw_img_bytes\")\n",
    "display(df_img)"
   ]
  },
  {
   "cell_type": "code",
   "execution_count": 0,
   "metadata": {
    "application/vnd.databricks.v1+cell": {
     "cellMetadata": {
      "byteLimit": 2048000,
      "rowLimit": 10000
     },
     "inputWidgets": {},
     "nuid": "668cdb12-375e-4b3a-b99b-84d86ade60f2",
     "showTitle": false,
     "tableResultSettingsMap": {},
     "title": ""
    }
   },
   "outputs": [],
   "source": [
    "from pyspark.sql.functions import pandas_udf, regexp_replace\n",
    "import pandas as pd\n",
    "\n",
    "\n",
    "@pandas_udf(\"string\")\n",
    "def classify_img(images: pd.Series) -> pd.Series:\n",
    "\n",
    "    from io import BytesIO \n",
    "    import base64\n",
    "    from openai import OpenAI\n",
    "\n",
    "    def classify_one_image(img): # We could update this to tak multiple parameters\n",
    "        client = OpenAI(\n",
    "          base_url=f\"{base_url}/v1\",\n",
    "          api_key=\"DUMMY\")\n",
    "\n",
    "        image_file = BytesIO(img)\n",
    "        image_base64 = base64.b64encode(image_file.read()).decode('utf-8')\n",
    "\n",
    "        response = client.chat.completions.create(\n",
    "            model=\"default\",\n",
    "            messages=[\n",
    "                {\n",
    "                    \"role\": \"user\", \n",
    "                    \"content\": [\n",
    "                            {\n",
    "                                 \"type\": \"text\", \n",
    "                                 #\"text\": \"This images contains a human, your task is to tell me if the person is a male or female, make sure to #answer with only the letter M for male and F for female \"\n",
    "                                  \"text\": \"This images contains a human, your task is to tell me what this person is doing and try to identify who they are \"\n",
    "                            },\n",
    "                            {\n",
    "                                \"type\": \"image_url\",\n",
    "                                \"image_url\": { \"url\": f\"data:image/png;base64,{image_base64}\"} \n",
    "                            }\n",
    "                    ]\n",
    "                }\n",
    "            ]\n",
    "        )\n",
    "\n",
    "        return response.choices[0].message.content.strip()\n",
    "    return pd.Series([classify_one_image(img) for img in images])"
   ]
  },
  {
   "cell_type": "code",
   "execution_count": 0,
   "metadata": {
    "application/vnd.databricks.v1+cell": {
     "cellMetadata": {
      "byteLimit": 2048000,
      "rowLimit": 10000
     },
     "inputWidgets": {},
     "nuid": "f90ca733-1686-449b-bbc5-89e431ce213c",
     "showTitle": false,
     "tableResultSettingsMap": {},
     "title": ""
    }
   },
   "outputs": [],
   "source": [
    "df_inference = df_img.repartition(4).withColumn(\"vLLM_predict\", classify_img(\"content\"))"
   ]
  },
  {
   "cell_type": "code",
   "execution_count": 0,
   "metadata": {
    "application/vnd.databricks.v1+cell": {
     "cellMetadata": {
      "byteLimit": 2048000,
      "rowLimit": 10000
     },
     "inputWidgets": {},
     "nuid": "d4dffa8e-b16d-4deb-9b3e-d40e2662ee35",
     "showTitle": false,
     "tableResultSettingsMap": {},
     "title": ""
    }
   },
   "outputs": [],
   "source": [
    "display(df_inference)"
   ]
  },
  {
   "cell_type": "code",
   "execution_count": 0,
   "metadata": {
    "application/vnd.databricks.v1+cell": {
     "cellMetadata": {
      "byteLimit": 2048000,
      "rowLimit": 10000
     },
     "inputWidgets": {},
     "nuid": "804c2f26-b45f-4821-9a5d-5a903a2bf413",
     "showTitle": false,
     "tableResultSettingsMap": {},
     "title": ""
    }
   },
   "outputs": [],
   "source": [
    "from mlflow_extensions.testing.helper import kill_processes_containing\n",
    "\n",
    "kill_processes_containing(\"vllm\")\n",
    "kill_processes_containing(\"ray\")\n",
    "kill_processes_containing(\"from multiprocessing\")"
   ]
  },
  {
   "cell_type": "code",
   "execution_count": 0,
   "metadata": {
    "application/vnd.databricks.v1+cell": {
     "cellMetadata": {},
     "inputWidgets": {},
     "nuid": "b7e2979c-8edf-4c8b-a4c8-24c774cf2930",
     "showTitle": false,
     "tableResultSettingsMap": {},
     "title": ""
    }
   },
   "outputs": [],
   "source": []
  }
 ],
 "metadata": {
  "application/vnd.databricks.v1+notebook": {
   "computePreferences": null,
   "dashboards": [],
   "environmentMetadata": {
    "base_environment": "",
    "environment_version": "1"
   },
   "inputWidgetPreferences": null,
   "language": "python",
   "notebookMetadata": {
    "pythonIndentUnit": 2
   },
   "notebookName": "vLMM Template",
   "widgets": {}
  },
  "language_info": {
   "name": "python"
  }
 },
 "nbformat": 4,
 "nbformat_minor": 0
}
